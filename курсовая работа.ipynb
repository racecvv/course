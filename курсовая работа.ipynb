{
 "cells": [
  {
   "cell_type": "markdown",
   "id": "9768ff11",
   "metadata": {},
   "source": [
    "# Курсовая работа\n",
    "## Выполнил студент группы БФИ2202 Филимонов Глеб Евгеньевич \n"
   ]
  },
  {
   "cell_type": "markdown",
   "id": "eb00c26d",
   "metadata": {},
   "source": [
    "Написать программу, которая будет считывать данные из CSV файла, содержащего\n",
    "информацию о продажах товаров в магазине. Данные в файле содержатся в следующем\n",
    "формате:\n",
    "| Номер заказа | Дата заказа | Название товара | Категория товара | Количество продаж | Цена\n",
    "за единицу | Общая стоимость |\n",
    "Необходимо:\n",
    "1. Рассчитать общую выручку магазина.\n",
    "2. Найти товар, который был продан наибольшее количество раз.\n",
    "3. Найти товар, который принес наибольшую выручку.\n",
    "4. Составить отчет, содержащий информацию об общей выручке магазина, количестве\n",
    "проданных единиц каждого товар и доле каждого товара в общей выручке.\n",
    "Для решения задач необходимо использовать структуры данных, такие как массивы и\n",
    "хеш-таблицы, а также различные алгоритмы обработки данных, например, сортировку и поиск.\n",
    "Также необходимо учитывать возможные ошибки ввода-вывода и обрабатывать их в\n",
    "соответствии с требованиями"
   ]
  },
  {
   "cell_type": "markdown",
   "id": "f78967f9",
   "metadata": {},
   "source": [
    "# Ход работы:"
   ]
  },
  {
   "cell_type": "markdown",
   "id": "ba71ab07",
   "metadata": {},
   "source": [
    "Импорт необходимых модулей"
   ]
  },
  {
   "cell_type": "code",
   "execution_count": 2,
   "id": "82c75980",
   "metadata": {},
   "outputs": [],
   "source": [
    "import csv\n",
    "from collections import defaultdict"
   ]
  },
  {
   "cell_type": "markdown",
   "id": "17589d6c",
   "metadata": {},
   "source": [
    "Функция чтения CSV-файла"
   ]
  },
  {
   "cell_type": "code",
   "execution_count": 3,
   "id": "a847fb64",
   "metadata": {},
   "outputs": [],
   "source": [
    "def read_csv_file(file_path):\n",
    "    with open(file_path, 'r') as file:\n",
    "        csv_reader = csv.reader(file, delimiter=';')\n",
    "        return list(csv_reader)"
   ]
  },
  {
   "cell_type": "markdown",
   "id": "f540367d",
   "metadata": {},
   "source": [
    "Обработка строки из CSV-файла"
   ]
  },
  {
   "cell_type": "code",
   "execution_count": 4,
   "id": "91862367",
   "metadata": {},
   "outputs": [],
   "source": [
    "def process_row(row):\n",
    "    if len(row) >= 8:\n",
    "        try:\n",
    "            order_id, date, product_name, category, quantity, unit_price, total_price, *rest = row\n",
    "            quantity = int(quantity)\n",
    "            unit_price = float(unit_price)\n",
    "            total_price = float(total_price)\n",
    "            return order_id, date, product_name, category, quantity, unit_price, total_price\n",
    "        except ValueError:\n",
    "            pass  # Пропускаем строку, если преобразование в число не удалось\n",
    "    return None"
   ]
  },
  {
   "cell_type": "markdown",
   "id": "7aca602a",
   "metadata": {},
   "source": [
    "Генерация отчета по продажам"
   ]
  },
  {
   "cell_type": "code",
   "execution_count": 5,
   "id": "45c0c87f",
   "metadata": {},
   "outputs": [],
   "source": [
    "def generate_sales_report(data):\n",
    "    product_sales = defaultdict(int)\n",
    "    product_revenue = defaultdict(float)\n",
    "    \n",
    "    for row in data:\n",
    "        if row:\n",
    "            product_name = row[2]\n",
    "            quantity = row[4]\n",
    "            total_price = row[6]\n",
    "            \n",
    "            product_sales[product_name] += quantity\n",
    "            product_revenue[product_name] += total_price\n",
    "    \n",
    "    total_revenue = sum(product_revenue.values())"
   ]
  },
  {
   "cell_type": "markdown",
   "id": "d7177870",
   "metadata": {},
   "source": [
    "Выведем результаты:"
   ]
  },
  {
   "cell_type": "code",
   "execution_count": 7,
   "id": "446c947a",
   "metadata": {},
   "outputs": [
    {
     "name": "stdout",
     "output_type": "stream",
     "text": [
      "Sales Report:\n",
      "----------------\n",
      "Total store revenue: 87981.00 rubles\n",
      "\n",
      "Products sold the most:\n",
      "Charger Usb-C (Type-C) - Lightning: 4 units\n",
      "\n",
      "Products with the highest revenue:\n",
      "Portable Speaker HARMAN/KARDON: 27710.00 rubles\n",
      "\n",
      "Detailed report:\n",
      "Iphone 13 Case (Black) | 2 units | 1752.00 rubles\n",
      "Iphone 13 Case (White) | 3 units | 2628.00 rubles\n",
      "Airpods pro Headphones | 1 units | 18404.00 rubles\n",
      "Wireless Charger | 2 units | 4260.00 rubles\n",
      "Charger Usb-C (Type-C) - Lightning | 4 units | 3822.00 rubles\n",
      "Wired EarPods Headphones (3.5 mm) | 3 units | 5595.00 rubles\n",
      "Portable Speaker HARMAN/KARDON | 1 units | 27710.00 rubles\n",
      "Microphone Samson | 1 units | 7603.00 rubles\n",
      "BEHRINGER HA400 Compact 4-Channel Headphone Amplifier | 1 units | 2743.00 rubles\n",
      "Audio-Technica AT2035 | 1 units | 13464.00 rubles\n",
      "----------------\n"
     ]
    }
   ],
   "source": [
    "import csv\n",
    "from collections import defaultdict\n",
    "\n",
    "\n",
    "\n",
    "def read_csv_file(file_path):\n",
    "    with open(file_path, 'r') as file:\n",
    "        csv_reader = csv.reader(file, delimiter=';')\n",
    "        return list(csv_reader)\n",
    "\n",
    "def process_row(row):\n",
    "    if len(row) >= 8:\n",
    "        try:\n",
    "            order_id, date, product_name, category, quantity, unit_price, total_price, *rest = row\n",
    "            quantity = int(quantity)\n",
    "            unit_price = float(unit_price)\n",
    "            total_price = float(total_price)\n",
    "            return order_id, date, product_name, category, quantity, unit_price, total_price\n",
    "        except ValueError:\n",
    "            pass  # Пропускаем строку, если преобразование в число не удалось\n",
    "    return None\n",
    "\n",
    "def generate_sales_report(data):\n",
    "    product_sales = defaultdict(int)\n",
    "    product_revenue = defaultdict(float)\n",
    "    \n",
    "    for row in data:\n",
    "        if row:\n",
    "            product_name = row[2]\n",
    "            quantity = row[4]\n",
    "            total_price = row[6]\n",
    "            \n",
    "            product_sales[product_name] += quantity\n",
    "            product_revenue[product_name] += total_price\n",
    "    \n",
    "    total_revenue = sum(product_revenue.values())\n",
    "    \n",
    "    print(\"Sales Report:\")\n",
    "    print(\"----------------\")\n",
    "    print(f\"Total store revenue: {total_revenue:.2f} rubles\")\n",
    "    print(\"\\nProducts sold the most:\")\n",
    "    most_sold_product = max(product_sales, key=product_sales.get)\n",
    "    print(f\"{most_sold_product}: {product_sales[most_sold_product]} units\")\n",
    "    \n",
    "    print(\"\\nProducts with the highest revenue:\")\n",
    "    highest_revenue_product = max(product_revenue, key=product_revenue.get)\n",
    "    print(f\"{highest_revenue_product}: {product_revenue[highest_revenue_product]:.2f} rubles\")\n",
    "    \n",
    "    print(\"\\nDetailed report:\")\n",
    "    for product, quantity in product_sales.items():\n",
    "        revenue = product_revenue[product]\n",
    "        print(f\"{product} | {quantity} units | {revenue:.2f} rubles\")\n",
    "    \n",
    "    print(\"----------------\")\n",
    "\n",
    "def main():\n",
    "    file_path = 'C:\\\\code\\\\sales_data.csv'\n",
    "    data = read_csv_file(file_path)\n",
    "    \n",
    "    processed_data = [process_row(row) for row in data[1:]]  # Пропускаем заголовок\n",
    "    \n",
    "    generate_sales_report(processed_data)\n",
    "\n",
    "if __name__ == \"__main__\":\n",
    "    main()"
   ]
  },
  {
   "cell_type": "markdown",
   "id": "ea295eb3",
   "metadata": {},
   "source": [
    "# Вывод:"
   ]
  },
  {
   "cell_type": "markdown",
   "id": "2fd9614d",
   "metadata": {},
   "source": [
    "Исходя из выполненной работы можно сделать следующие выводы:\n",
    "\n",
    "Цель проекта: создание программы для анализа продаж в магазине техники и генерации отчета на основе данных из CSV-файла.\n",
    "\n",
    "Структура данных: CSV-файл содержит информацию о продажах, включая идентификатор заказа, дату, название продукта, количество, единицу измерения, цену за единицу, общую цену и имя менеджера.\n",
    "\n",
    "Используемые модули: csv для чтения и записи файлов в формате CSV, defaultdict из модуля collections для создания словарей с типом значения по умолчанию.\n",
    "\n",
    "Функция read_csv_file: отвечает за безопасное чтение CSV-файла и возвращение списка строк.\n",
    "\n",
    "Функция process_row: обрабатывает каждую строку из CSV-файла, извлекает необходимые данные, преобразует количество, цену за единицу и общую цену в соответствующие типы (целочисленный и вещественный) и возвращает кортеж с извлеченными значениями.\n",
    "\n",
    "Функция generate_sales_report: принимает обработанные данные, использует словари product_sales и product_revenue для подсчета количества проданных единиц и выручки для каждого продукта, вычисляет общую выручку магазина и генерирует подробный отчет о продажах.\n",
    "\n",
    "Алгоритм вывода отчета: обеспечивает вывод общей выручки магазина, продуктов, проданных в наибольшем количестве, продуктов с самой высокой выручкой и подробного разбора по каждому продукту.\n",
    "\n",
    "Таким образом, данный проект демонстрирует использование Python, модулей csv и collections для обработки данных о продажах, их анализа и генерации наглядного отчета, который может быть полезен для принятия управленческих решений в магазине техники."
   ]
  }
 ],
 "metadata": {
  "kernelspec": {
   "display_name": "Python 3 (ipykernel)",
   "language": "python",
   "name": "python3"
  },
  "language_info": {
   "codemirror_mode": {
    "name": "ipython",
    "version": 3
   },
   "file_extension": ".py",
   "mimetype": "text/x-python",
   "name": "python",
   "nbconvert_exporter": "python",
   "pygments_lexer": "ipython3",
   "version": "3.11.9"
  }
 },
 "nbformat": 4,
 "nbformat_minor": 5
}
